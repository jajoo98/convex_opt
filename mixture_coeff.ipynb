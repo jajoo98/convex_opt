{
 "cells": [
  {
   "cell_type": "markdown",
   "id": "dd3f3961",
   "metadata": {},
   "source": [
    "## Question 7"
   ]
  },
  {
   "cell_type": "code",
   "execution_count": 1,
   "id": "4fa8cc10",
   "metadata": {},
   "outputs": [],
   "source": [
    "import numpy as np\n",
    "import cvxpy as cp\n",
    "from scipy.stats import norm, laplace, uniform\n",
    "import matplotlib.pyplot as plt"
   ]
  },
  {
   "cell_type": "code",
   "execution_count": 2,
   "id": "b01d248d",
   "metadata": {},
   "outputs": [],
   "source": [
    "np.set_printoptions(suppress=True)\n",
    "np.set_printoptions(precision=3)\n",
    "np.set_printoptions(linewidth=np.inf)"
   ]
  },
  {
   "cell_type": "markdown",
   "id": "bf06c7c3",
   "metadata": {},
   "source": [
    "### Optimization Problem"
   ]
  },
  {
   "cell_type": "markdown",
   "id": "9f4dc359",
   "metadata": {},
   "source": [
    "The mixture density is clearly linear in $\\lambda$. The likelihood function for the estimation of the parameters is <br>\n",
    "$ \\Pi_{i=1}^N \\Sigma_{j=1}^k \\lambda_j p_j(x_i)$ <br>\n",
    "This is a product of affine (concave) functions of the parameter, which may not necessarily be concave. To induce concavity, we take the log. Now the log likelihood function becomes <br>\n",
    "$ \\Sigma_{i=1}^N log (\\Sigma_{j=1}^k \\lambda_j p_j(x_i))$ <br>\n",
    "Now this is the sum of concave functions (log of affine functions is concave) which is concave. Maximizing the log likelihood is thus a convex optimization problem. It is formulated as <br>\n",
    "max. $ \\Sigma_{i=1}^N log (\\Sigma_{j=1}^k \\lambda_j p_j(x_i))$ <br>\n",
    "s.t. $\\lambda \\geq 0, \\Sigma \\lambda_i =1$"
   ]
  },
  {
   "cell_type": "markdown",
   "id": "8eefd9ac",
   "metadata": {},
   "source": [
    "### Implementation"
   ]
  },
  {
   "cell_type": "code",
   "execution_count": 3,
   "id": "a470df02",
   "metadata": {},
   "outputs": [],
   "source": [
    "# True weights for the underlying mixture\n",
    "true_mixture_weights = [.3, .5, .2]\n",
    "N = 100\n",
    "k = 3"
   ]
  },
  {
   "cell_type": "code",
   "execution_count": 4,
   "id": "157947cc",
   "metadata": {},
   "outputs": [],
   "source": [
    "# This function generates N from the true mixture of distributions. \n",
    "# When you use this function to plot your estimated densities, \n",
    "# pass in the weights you obtain instead of the default parameters. \n",
    "def generate_samples(mixture_weights):\n",
    "    np.random.seed(1)\n",
    "    # Parameters for the distributions in our mixture: N(3, 2^2), U(-1, 2), L(-2, 3)\n",
    "    samples = np.vstack([[np.random.normal(3, 2), \n",
    "                              np.random.uniform(-1, 2), \n",
    "                              np.random.laplace(-2, 3)] for _ in range(N)])\n",
    "    indices = np.random.choice(list(range(len(mixture_weights))), p = mixture_weights, size = N)\n",
    "    samples = np.take_along_axis(samples, indices[:, None], axis = 1)\n",
    "    return samples.flatten()"
   ]
  },
  {
   "cell_type": "code",
   "execution_count": 5,
   "id": "d2c7bf6a",
   "metadata": {},
   "outputs": [],
   "source": [
    "# This function evaluates a set of univariate samples\n",
    "# under the Gaussian, Uniform, and Laplace densities in the problem.\n",
    "def evaluate_density(samples):\n",
    "    # Parameters for the distributions in our mixture: N(3, 2^2), U(-1, 2), L(-2, 3)\n",
    "    # Minor note: Scipy uniform.pdf expects the first argument as the start interval and the \n",
    "    # second as the length of interval, *not* the endpoint\n",
    "    densities = [[norm.pdf(x, 3,2), \n",
    "                          uniform.pdf(x, -1, 3), \n",
    "                          laplace.pdf(x, -2, 3)] for x in samples]\n",
    "    densities = np.array(densities)\n",
    "    return densities"
   ]
  },
  {
   "cell_type": "code",
   "execution_count": 6,
   "id": "4d746f50",
   "metadata": {},
   "outputs": [],
   "source": [
    "# This function takes as input the estimated mixture weights\n",
    "# and generates a plot of both the estimated and true density\n",
    "# by analytically evaluating the density at each point in a discretized\n",
    "# interval [-20, 20]\n",
    "def plot_estimated_and_true_density(estimated_mixture_weights):\n",
    "    discretized_x = np.linspace(-20, 20, num=100)\n",
    "    all_densities = evaluate_density(discretized_x)\n",
    "    estimated_densities = all_densities @ estimated_mixture_weights\n",
    "    true_densities = all_densities @ true_mixture_weights\n",
    "    plt.plot(discretized_x, estimated_densities, label = \"Estimated\")\n",
    "    plt.plot(discretized_x, true_densities, label = \"True\")\n",
    "    plt.title(\"True vs Estimated Density\")\n",
    "    plt.legend()\n",
    "    plt.show()"
   ]
  },
  {
   "cell_type": "code",
   "execution_count": 7,
   "id": "60e99cbb",
   "metadata": {},
   "outputs": [],
   "source": [
    "# The below two lines generate the samples and form the densities matrix.\n",
    "# The densities matrix is of dimension N x k,\n",
    "# where each row contains the evaluations of a datapoint under each density in the mixture.\n",
    "samples = generate_samples(true_mixture_weights)\n",
    "densities = evaluate_density(samples)"
   ]
  },
  {
   "cell_type": "code",
   "execution_count": 8,
   "id": "876ec18b",
   "metadata": {},
   "outputs": [],
   "source": [
    "# defining variables\n",
    "\n",
    "lam = cp.Variable(k, nonneg=True)"
   ]
  },
  {
   "cell_type": "code",
   "execution_count": 9,
   "id": "38b64d56",
   "metadata": {},
   "outputs": [],
   "source": [
    "# defining constraints\n",
    "\n",
    "cons = [cp.sum(lam) == 1]"
   ]
  },
  {
   "cell_type": "code",
   "execution_count": 10,
   "id": "3e753f65",
   "metadata": {},
   "outputs": [],
   "source": [
    "# defining objective function\n",
    "\n",
    "obj = cp.Maximize(cp.sum(cp.log(densities@lam)))"
   ]
  },
  {
   "cell_type": "code",
   "execution_count": 11,
   "id": "f237cbe8",
   "metadata": {},
   "outputs": [],
   "source": [
    "# solving the problem\n",
    "\n",
    "prob = cp.Problem(obj, cons)\n",
    "prob.solve();"
   ]
  },
  {
   "cell_type": "code",
   "execution_count": 12,
   "id": "41d8a9d0",
   "metadata": {},
   "outputs": [
    {
     "data": {
      "text/plain": [
       "array([0.296, 0.572, 0.132])"
      ]
     },
     "execution_count": 12,
     "metadata": {},
     "output_type": "execute_result"
    }
   ],
   "source": [
    "# optimal values of parameter\n",
    "\n",
    "lam.value"
   ]
  },
  {
   "cell_type": "markdown",
   "id": "615bf934",
   "metadata": {},
   "source": [
    "The optimal values of $\\lambda$ estimated by the MLE method are pretty close to the true values (0.3, 0.5, 0.2)."
   ]
  },
  {
   "cell_type": "markdown",
   "id": "b379b7df",
   "metadata": {},
   "source": [
    "We plot the true and estimated mixture densities on the same plot."
   ]
  },
  {
   "cell_type": "code",
   "execution_count": 13,
   "id": "219e9d40",
   "metadata": {},
   "outputs": [
    {
     "data": {
      "image/png": "[encoded data removed]",
      "text/plain": [
       "<Figure size 432x288 with 1 Axes>"
      ]
     },
     "metadata": {
      "needs_background": "light"
     },
     "output_type": "display_data"
    }
   ],
   "source": [
    "plot_estimated_and_true_density(lam.value)"
   ]
  },
  {
   "cell_type": "code",
   "execution_count": null,
   "id": "1a1275b5",
   "metadata": {},
   "outputs": [],
   "source": []
  }
 ],
 "metadata": {
  "kernelspec": {
   "display_name": "Python [conda env:cvxpy_env]",
   "language": "python",
   "name": "conda-env-cvxpy_env-py"
  },
  "language_info": {
   "codemirror_mode": {
    "name": "ipython",
    "version": 3
   },
   "file_extension": ".py",
   "mimetype": "text/x-python",
   "name": "python",
   "nbconvert_exporter": "python",
   "pygments_lexer": "ipython3",
   "version": "3.10.2"
  }
 },
 "nbformat": 4,
 "nbformat_minor": 5
}
