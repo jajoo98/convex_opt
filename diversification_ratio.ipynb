{
 "cells": [
  {
   "cell_type": "markdown",
   "id": "f83a72c2",
   "metadata": {},
   "source": [
    "## Question 6"
   ]
  },
  {
   "cell_type": "code",
   "execution_count": 1,
   "id": "08d699ee",
   "metadata": {},
   "outputs": [],
   "source": [
    "import numpy as np\n",
    "import cvxpy as cp\n",
    "import matplotlib.pyplot as plt\n",
    "from scipy.linalg import sqrtm"
   ]
  },
  {
   "cell_type": "code",
   "execution_count": 2,
   "id": "b18af6dc",
   "metadata": {},
   "outputs": [],
   "source": [
    "np.set_printoptions(suppress=True)\n",
    "np.set_printoptions(precision=2)\n",
    "np.set_printoptions(linewidth=np.inf)"
   ]
  },
  {
   "cell_type": "markdown",
   "id": "09db165a",
   "metadata": {},
   "source": [
    "### Optimization Problem"
   ]
  },
  {
   "cell_type": "markdown",
   "id": "0f108d78",
   "metadata": {},
   "source": [
    "In this problem, we maximize the diversification ratio for a long-only portfolio. The constraints are clearly convex and the objective function is quasiconcave. This can be seen by considering the superlevel sets of the diversification ratio function. They are given by <br>\n",
    "$S_{\\alpha}=\\left\\{x \\mid \\sigma^{T} x /\\left\\|\\Sigma^{1 / 2} x\\right\\|_{2} \\geq \\alpha\\right\\}$ where $\\left\\|\\Sigma^{1 / 2} x\\right\\|_{2} = (x^T \\Sigma x)^{\\frac{1}{2}}$ <br> <br>\n",
    "Use the remark to see that $D(x) \\geq 1$ for long-only portfolios. So we focus on $\\alpha \\geq 1$. <br>\n",
    "The $\\alpha$-superlevel set is defined by\n",
    "$\\frac{\\sigma^{T} x}{\\left\\|\\Sigma^{1 / 2} x\\right\\|_{2}} \\geq \\alpha \\Longleftrightarrow \\sigma^{T} x \\geq \\alpha\\left\\|\\Sigma^{1 / 2} x\\right\\|_{2}$ <br>\n",
    "For positive $\\alpha$, this is a second-order cone constraint and hence convex. Hence $D(x)$ is quasiconcave. So the problem of maximizing $D(x)$ given the constraints is a quasiconvex optimization problem."
   ]
  },
  {
   "cell_type": "markdown",
   "id": "e89de67a",
   "metadata": {},
   "source": [
    "### Quasiconvex to Convex"
   ]
  },
  {
   "cell_type": "markdown",
   "id": "474ce6c4",
   "metadata": {},
   "source": [
    "We notice that $D(tx) = D(x)$ for $t>0$ to convert the quasiconvex optimization problem to a convex optimization problem. We need homogeneity in our constraints to perform a variable transformation by scaling. The constraint $x \\geq 0$ is homogeneous already. For the constraint $x \\leq M$, we rewrite it as $x \\leq M\\mathbf{1}^Tx$. So the problem is now <br>\n",
    "max. $\\sigma^{T} x /\\left\\|\\Sigma^{1 / 2} x\\right\\|_{2}$ <br>\n",
    "s.t. $x \\leq M\\mathbf{1}^Tx, \\mathbf{1}^{T} x=1, x \\geq 0$ <br> <br>\n",
    "For homogeneity in the constraint $\\mathbf{1}^{T} x=1$, we perform a change of variable $z=x / \\sigma^{T} x$. (This is a positive multiple of $x$.) The variable $z$ satisfies $\\sigma^{T} z=1$; we can recover $x$ from $z$ as $x=z / \\mathbf{1}^{T} z$ (since $\\mathbf{1}^{T} z = 1/\\mathbf{\\sigma}^{T} x$). Using $z$ the problem becomes <br>\n",
    "$\\operatorname{max.}  1 /\\left\\|\\Sigma^{1 / 2} z\\right\\|_{2}$ <br>\n",
    "s.t. $z \\leq M\\mathbf{1}^Tz, \\quad \\mu^{T} z=1, z \\geq 0$ <br> <br>\n",
    "The reciprocal of the objective function is simply the norm of an affine function and hence convex. Therefore this is a convex optimization problem written as <br><br>\n",
    "$\\operatorname{min.}  \\left\\|\\Sigma^{1 / 2} z\\right\\|_{2}$ <br>\n",
    "s.t. $z \\leq M\\mathbf{1}^Tz, \\quad \\mu^{T} z=1, z \\geq 0$ "
   ]
  },
  {
   "cell_type": "markdown",
   "id": "b374bcaf",
   "metadata": {},
   "source": [
    "### Implementation"
   ]
  },
  {
   "cell_type": "code",
   "execution_count": 3,
   "id": "45b7cd7b",
   "metadata": {},
   "outputs": [],
   "source": [
    "# problem data\n",
    "\n",
    "rng = np.random.Generator(np.random.MT19937(seed=12345))\n",
    "n = 20\n",
    "# _A and _C are internal - you don't need them.\n",
    "_A = rng.standard_normal((2*n, n))\n",
    "_C = np.diag(0.5*np.exp(rng.standard_normal((n,))))\n",
    "\n",
    "Sigma = _C@_A.T@_A@_C\n",
    "Sigma = 0.5*(Sigma + Sigma.T)\n",
    "M = np.ones(n)*0.2\n",
    "sigma = np.sqrt(np.diag(Sigma))"
   ]
  },
  {
   "cell_type": "code",
   "execution_count": 4,
   "id": "a7985fbe",
   "metadata": {},
   "outputs": [],
   "source": [
    "# defining variables\n",
    "\n",
    "z = cp.Variable(n, pos=True)\n",
    "root_Sig = sqrtm(Sigma)"
   ]
  },
  {
   "cell_type": "code",
   "execution_count": 5,
   "id": "6cdfca90",
   "metadata": {},
   "outputs": [],
   "source": [
    "# defining constraints\n",
    "\n",
    "cons = [sigma.T@z == 1]\n",
    "cons += [z<= M*cp.sum(z)]"
   ]
  },
  {
   "cell_type": "code",
   "execution_count": 6,
   "id": "ce144715",
   "metadata": {},
   "outputs": [],
   "source": [
    "# defining objective function\n",
    "\n",
    "obj = cp.Minimize(cp.norm(root_Sig@z))"
   ]
  },
  {
   "cell_type": "code",
   "execution_count": 7,
   "id": "a2220df8",
   "metadata": {},
   "outputs": [],
   "source": [
    "# solve the problem\n",
    "\n",
    "prob = cp.Problem(obj, cons)\n",
    "prob.solve();"
   ]
  },
  {
   "cell_type": "code",
   "execution_count": 8,
   "id": "d2cc5373",
   "metadata": {},
   "outputs": [
    {
     "name": "stdout",
     "output_type": "stream",
     "text": [
      "The optimal portfolio weights are [0.16 0.01 0.01 0.01 0.   0.03 0.04 0.03 0.05 0.05 0.01 0.02 0.   0.07 0.09 0.04 0.01 0.06 0.11 0.2 ]\n"
     ]
    }
   ],
   "source": [
    "# recovering optimal x* from transformed variable\n",
    "\n",
    "x = z.value/np.sum(z.value)\n",
    "print(\"The optimal portfolio weights are {}\".format(x))"
   ]
  },
  {
   "cell_type": "code",
   "execution_count": 9,
   "id": "d443c833",
   "metadata": {},
   "outputs": [
    {
     "name": "stdout",
     "output_type": "stream",
     "text": [
      "The optimal diversification ratio is 8.112058694514948\n"
     ]
    }
   ],
   "source": [
    "# calculating optimal diversification ratio\n",
    "\n",
    "Dstar = (sigma.T@x)/(np.linalg.norm(root_Sig@x))\n",
    "print(\"The optimal diversification ratio is {}\".format(Dstar))"
   ]
  },
  {
   "cell_type": "code",
   "execution_count": 10,
   "id": "bd40c0bd",
   "metadata": {},
   "outputs": [],
   "source": [
    "# solving the minimum variance portfolio problem\n",
    "\n",
    "x_mv = cp.Variable(n, nonneg=True)\n",
    "cons_mv = [cp.sum(x_mv) == 1, x_mv <= M]\n",
    "obj_mv = cp.Minimize(cp.quad_form(x_mv, Sigma))\n",
    "prob_mv = cp.Problem(obj_mv, cons_mv)\n",
    "prob_mv.solve();"
   ]
  },
  {
   "cell_type": "code",
   "execution_count": 11,
   "id": "a7cf0142",
   "metadata": {},
   "outputs": [
    {
     "name": "stdout",
     "output_type": "stream",
     "text": [
      "The diversification ratio of the long-only minimum variance portfolio is 6.518720594571963\n"
     ]
    }
   ],
   "source": [
    "# calculating diversification ratio for long-only minimum variance portfolio problem\n",
    "\n",
    "Dmv = (sigma.T@x_mv.value)/(np.linalg.norm(root_Sig@x_mv.value))\n",
    "print(\"The diversification ratio of the long-only minimum variance portfolio is {}\".format(Dmv))"
   ]
  },
  {
   "cell_type": "markdown",
   "id": "94f13ca8",
   "metadata": {},
   "source": [
    "As expected, the diversification of the minimum variance portfolio is less than the optimal value for diversification ratio."
   ]
  },
  {
   "cell_type": "markdown",
   "id": "cea2c807",
   "metadata": {},
   "source": [
    "We use the given plotting function to plot the bar graphs."
   ]
  },
  {
   "cell_type": "code",
   "execution_count": 12,
   "id": "2176f4b8",
   "metadata": {},
   "outputs": [
    {
     "data": {
      "image/png": "[encoded data removed]",
      "text/plain": [
       "<Figure size 432x288 with 1 Axes>"
      ]
     },
     "metadata": {
      "needs_background": "light"
     },
     "output_type": "display_data"
    }
   ],
   "source": [
    "plt.bar(np.arange(0,20), x, width=0.5, label=\"Max diversification\");\n",
    "plt.bar((np.arange(0,20)*2+1)/2, x_mv.value, width=0.5, label=\"Min variance\");\n",
    "plt.legend();\n",
    "plt.xticks(np.arange(0,20));"
   ]
  },
  {
   "cell_type": "code",
   "execution_count": null,
   "id": "c3bb35f3",
   "metadata": {},
   "outputs": [],
   "source": []
  }
 ],
 "metadata": {
  "kernelspec": {
   "display_name": "Python [conda env:cvxpy_env]",
   "language": "python",
   "name": "conda-env-cvxpy_env-py"
  },
  "language_info": {
   "codemirror_mode": {
    "name": "ipython",
    "version": 3
   },
   "file_extension": ".py",
   "mimetype": "text/x-python",
   "name": "python",
   "nbconvert_exporter": "python",
   "pygments_lexer": "ipython3",
   "version": "3.10.2"
  }
 },
 "nbformat": 4,
 "nbformat_minor": 5
}
