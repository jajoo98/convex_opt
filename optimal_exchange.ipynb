{
 "cells": [
  {
   "cell_type": "markdown",
   "id": "95c562e9",
   "metadata": {},
   "source": [
    "## Question 8"
   ]
  },
  {
   "cell_type": "markdown",
   "id": "00896fe3",
   "metadata": {},
   "source": [
    "### Duality theory"
   ]
  },
  {
   "cell_type": "markdown",
   "id": "3758dc17",
   "metadata": {},
   "source": [
    "This is a problem involving duality theory. We are given a convex optimization problem and we derive the KKT conditions for optimality to derive some insighful results which can be interpreted through microeconomic reasoning. The problem is <br>\n",
    "max. $U_{1}\\left(x_{1}\\right)+\\ldots+U_{N}\\left(x_{N}\\right)$ <br>\n",
    "s.t. $x_{1}+\\ldots+x_{N} = 0$"
   ]
  },
  {
   "cell_type": "markdown",
   "id": "4a095f00",
   "metadata": {},
   "source": [
    "### (a) The Karush-Kahn-Tucker Conditions"
   ]
  },
  {
   "cell_type": "markdown",
   "id": "dd7006b6",
   "metadata": {},
   "source": [
    "We simply verify the KKT conditions at optimal points. Primal feasibility is obvious. Since we do not have inequality constraints, we need not worry about dual feasibility or complementary slackness. Finally, we evaluate the gradient of the Lagrangian at every variable and set it to zero. The Lagrangian is <br>\n",
    "$L\\left(x_{1}, \\ldots, x_{N}, \\nu\\right)=U_{1}\\left(x_{1}\\right)+\\ldots+U_{N}\\left(x_{N}\\right)-\\nu^{T}\\left(x_{1}+\\ldots+x_{N}\\right)$ <br>\n",
    "Setting the gradient to zero w.r.t any agent vector $x_i$ gives <br>\n",
    "$\\nabla U_{i}\\left(x_{i}^{\\star}\\right) - p = 0$ <br>\n",
    "which finally gives that <br>\n",
    "$p = \\nabla U_{i}\\left(x_{i}^{\\star}\\right)$ for $i=1 \\ldots N$ <br>\n",
    "Since $U_i$ are increasing functions, their gradients are positive and hence it is easy to see that $p>0$. From a microeconomic point of view, this relation makes complete sense. For every agent the marginal utility of the goods is equal to the price they pay at optimality, and is the same for all agents. If this were not the case, the agent would either be willing to pay the lower price to derive higher marginal utility, or not be willing to pay the price since the marginal utility is not sufficient to keep them happy."
   ]
  },
  {
   "cell_type": "markdown",
   "id": "ac8d8710",
   "metadata": {},
   "source": [
    "### (b) Clearing of cash payments"
   ]
  },
  {
   "cell_type": "markdown",
   "id": "a4cd8a8c",
   "metadata": {},
   "source": [
    "It's not difficult to see that market clearing implies cash payment clearing. In mathematical terms, any primal feasible point i.e. any point satisfying $x_{1}+\\cdots+x_{N}=0$ will result in cash payment clearing. To see this, write <br>\n",
    "$ \\Sigma_{i=1}^N p^Tx_i = p^T\\Sigma_{i=1}^N x_i = 0$"
   ]
  },
  {
   "cell_type": "markdown",
   "id": "bd3a0356",
   "metadata": {},
   "source": [
    "### (c) Nash equilibrium"
   ]
  },
  {
   "cell_type": "markdown",
   "id": "0e8881e7",
   "metadata": {},
   "source": [
    "Consider the function $U_i(x_i) - p^Tx_i$ which is the net utility for agent $i$. Since it's strictly concave, to maximize it, we set the gradient of it to zero to get <br>\n",
    "$\\nabla U_i(x_i) - p = 0$ or <br>\n",
    "$\\nabla U_i(x_i) = \\nabla U_i(x_i^{\\star})$ <br>\n",
    "Hence the maximum is achieved when $x_i = x_i^{\\star}$ and this is the only point due to strict concavity. Again, from a microeconomic perspective, this makes sense as at optimality (or at Nash equilibrium), no agent would benefit by changing their stance, given the stances of the other agents."
   ]
  },
  {
   "cell_type": "markdown",
   "id": "6ac2beda",
   "metadata": {},
   "source": [
    "### (d) Trading improves net utility"
   ]
  },
  {
   "cell_type": "markdown",
   "id": "14bfbc73",
   "metadata": {},
   "source": [
    "We know that $x_i^{\\star}$ is the maximizer of the quantity $U_i(x_i) - p^Tx_i$. Mathematically, <br>\n",
    "$U_i(x_i^{\\star}) - p^Tx_i^{\\star} \\geq U_i(x_i) - p^Tx_i$ for all $x_i$ in the domain. <br>\n",
    "Plugging in the zero vector (where the agent does not trade) results in <br>\n",
    "$U_i(x_i^{\\star}) - p^Tx_i^{\\star} \\geq U_i(0)$ <br>\n",
    "(Note that $0 \\in \\operatorname{dom} U_{i}, i=1, \\ldots, N$ so this is okay to do.) This tells us that unless the optimal point is the zero vector, the agent is better off (can achieve higher net utility) by trading in the market until Nash equilibrium is achieved."
   ]
  },
  {
   "cell_type": "code",
   "execution_count": null,
   "id": "4ddf5006",
   "metadata": {},
   "outputs": [],
   "source": []
  }
 ],
 "metadata": {
  "kernelspec": {
   "display_name": "Python [conda env:cvxpy_env]",
   "language": "python",
   "name": "conda-env-cvxpy_env-py"
  },
  "language_info": {
   "codemirror_mode": {
    "name": "ipython",
    "version": 3
   },
   "file_extension": ".py",
   "mimetype": "text/x-python",
   "name": "python",
   "nbconvert_exporter": "python",
   "pygments_lexer": "ipython3",
   "version": "3.10.2"
  }
 },
 "nbformat": 4,
 "nbformat_minor": 5
}
