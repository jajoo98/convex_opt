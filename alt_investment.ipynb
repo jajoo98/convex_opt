{
 "cells": [
  {
   "cell_type": "markdown",
   "id": "f536763a",
   "metadata": {},
   "source": [
    "## Question 4"
   ]
  },
  {
   "cell_type": "code",
   "execution_count": 1,
   "id": "30b24ee7",
   "metadata": {},
   "outputs": [],
   "source": [
    "import numpy as np\n",
    "import cvxpy as cp\n",
    "import matplotlib.pyplot as plt"
   ]
  },
  {
   "cell_type": "markdown",
   "id": "eb23c774",
   "metadata": {},
   "source": [
    "### Optimization Problem"
   ]
  },
  {
   "cell_type": "markdown",
   "id": "cf7ee02b",
   "metadata": {},
   "source": [
    "This is a convex optimization problem since the objective function (sum of squares) is convex, all inequality contrains are affine and hence convex, and all equality constraints are affine. The formulation is <br>\n",
    "min. $\\frac{1}{T+1} \\sum_{t=1}^{T+1}\\left(n_{t}-n^{\\mathrm{des}}\\right)^{2}+\\lambda \\frac{1}{T-1} \\sum_{t=1}^{T-1}\\left(c_{t+1}-c_{t}\\right)^{2}$ <br>\n",
    "s.t. $c \\geq 0, d \\geq 0, p \\geq 0, n \\geq 0, u \\geq 0$ <br>\n",
    "&emsp; &ensp; $n_1 = 0, u_1 = 0$ <br>\n",
    "&emsp; &ensp; $u_{t+1} = u_t - p_t + c_t, t=1 \\ldots T$ <br>\n",
    "&emsp; &ensp; $n_{t+1} = (1+r)n_t + p_t - d_t, t=1 \\ldots T$ <br>\n",
    "&emsp; &ensp; $c \\leq c_{max}, p \\leq p_{max}$ <br>\n",
    "&emsp; &ensp; $p_t = \\gamma^{call}u_t, d_t = \\gamma^{dist}n_t$ <br>\n",
    "&emsp; &ensp; $1^Tc \\leq B$"
   ]
  },
  {
   "cell_type": "markdown",
   "id": "0c1e0fdf",
   "metadata": {},
   "source": [
    "### Implementation"
   ]
  },
  {
   "cell_type": "code",
   "execution_count": 2,
   "id": "91d246bd",
   "metadata": {},
   "outputs": [],
   "source": [
    "# problem data\n",
    "\n",
    "gam_call, gam_dist = 0.23, 0.15\n",
    "cmax, pmax = 4, 3\n",
    "B = 85\n",
    "ndes = 15\n",
    "lam = 5\n",
    "T = 40\n",
    "r = 0.04"
   ]
  },
  {
   "cell_type": "code",
   "execution_count": 3,
   "id": "911a58f8",
   "metadata": {},
   "outputs": [],
   "source": [
    "# defining variables\n",
    "\n",
    "c, p, d = cp.Variable(T, nonneg=True), cp.Variable(T, nonneg=True), cp.Variable(T, nonneg=True)\n",
    "n, u = cp.Variable(T+1, nonneg=True), cp.Variable(T+1, nonneg=True)"
   ]
  },
  {
   "cell_type": "code",
   "execution_count": 4,
   "id": "85388634",
   "metadata": {},
   "outputs": [],
   "source": [
    "# defining constraints\n",
    "\n",
    "cons = [c<=cmax, p<=pmax, cp.sum(c)<=B]\n",
    "cons += [n[0]==0, u[0]==0]\n",
    "\n",
    "for t in range(T):\n",
    "    cons += [n[t+1] == (1+r)*n[t]+p[t]-d[t]]\n",
    "    cons += [u[t+1] == u[t]-p[t]+c[t]]\n",
    "    cons += [p[t] == gam_call*u[t], d[t] == gam_dist*n[t]]"
   ]
  },
  {
   "cell_type": "code",
   "execution_count": 5,
   "id": "f3dc2bf9",
   "metadata": {},
   "outputs": [],
   "source": [
    "# defining the objective function\n",
    "\n",
    "term1, term2 = 0, 0\n",
    "\n",
    "for t in range(T+1):\n",
    "    term1 += cp.square(n[t]-ndes)\n",
    "    \n",
    "for t in range(T-1):\n",
    "    term2 += cp.square(c[t+1]-c[t])\n",
    "    \n",
    "obj = cp.Minimize((1/(T+1))*term1 + (lam/(T-1))*term2)"
   ]
  },
  {
   "cell_type": "code",
   "execution_count": 6,
   "id": "29b96f43",
   "metadata": {},
   "outputs": [],
   "source": [
    "# solve the problem\n",
    "\n",
    "prob_a = cp.Problem(obj, cons)\n",
    "prob_a.solve();"
   ]
  },
  {
   "cell_type": "markdown",
   "id": "454099fa",
   "metadata": {},
   "source": [
    "We plot the values of the variables against time."
   ]
  },
  {
   "cell_type": "code",
   "execution_count": 7,
   "id": "4929e98f",
   "metadata": {},
   "outputs": [
    {
     "data": {
      "image/png": "[encoded data removed]",
      "text/plain": [
       "<Figure size 576x360 with 1 Axes>"
      ]
     },
     "metadata": {
      "needs_background": "light"
     },
     "output_type": "display_data"
    }
   ],
   "source": [
    "plt.plot(c.value, label='c');\n",
    "plt.plot(p.value, label='p');\n",
    "plt.plot(d.value, label='d');\n",
    "plt.plot(n.value, label='n');\n",
    "plt.plot(u.value, label='u');\n",
    "plt.xlabel(\"Time\")\n",
    "plt.legend();\n",
    "\n",
    "fig = plt.gcf();\n",
    "fig.set_size_inches((8,5));"
   ]
  },
  {
   "cell_type": "code",
   "execution_count": 8,
   "id": "a5c2a4cd",
   "metadata": {},
   "outputs": [
    {
     "name": "stdout",
     "output_type": "stream",
     "text": [
      "The optimal RMS tracking error is 5.083869068895278\n"
     ]
    }
   ],
   "source": [
    "print(\"The optimal RMS tracking error is {}\".format(np.sqrt((1/(T+1))*term1.value)))    "
   ]
  },
  {
   "cell_type": "markdown",
   "id": "94ec6366",
   "metadata": {},
   "source": [
    "Next we solve the constant commitment based on steady state."
   ]
  },
  {
   "cell_type": "code",
   "execution_count": 9,
   "id": "8a53d848",
   "metadata": {},
   "outputs": [],
   "source": [
    "# problem data and constraints\n",
    "\n",
    "c_ss = (gam_dist - r)*ndes\n",
    "cons_b = cons + [c == c_ss]"
   ]
  },
  {
   "cell_type": "code",
   "execution_count": 10,
   "id": "01f0783d",
   "metadata": {},
   "outputs": [],
   "source": [
    "# solve the problem\n",
    "\n",
    "prob_b = cp.Problem(obj, cons_b)\n",
    "prob_b.solve();"
   ]
  },
  {
   "cell_type": "markdown",
   "id": "1dfcd582",
   "metadata": {},
   "source": [
    "Same plots for this case."
   ]
  },
  {
   "cell_type": "code",
   "execution_count": 11,
   "id": "dfe6294a",
   "metadata": {},
   "outputs": [
    {
     "data": {
      "image/png": "[encoded data removed]",
      "text/plain": [
       "<Figure size 576x360 with 1 Axes>"
      ]
     },
     "metadata": {
      "needs_background": "light"
     },
     "output_type": "display_data"
    }
   ],
   "source": [
    "plt.plot(c.value, label='c');\n",
    "plt.plot(p.value, label='p');\n",
    "plt.plot(d.value, label='d');\n",
    "plt.plot(n.value, label='n');\n",
    "plt.plot(u.value, label='u');\n",
    "plt.xlabel(\"Time\")\n",
    "plt.legend();\n",
    "\n",
    "fig = plt.gcf();\n",
    "fig.set_size_inches((8,5));"
   ]
  },
  {
   "cell_type": "code",
   "execution_count": 12,
   "id": "7e35ce17",
   "metadata": {},
   "outputs": [
    {
     "name": "stdout",
     "output_type": "stream",
     "text": [
      "The optimal RMS tracking error is 6.856700870342915\n"
     ]
    }
   ],
   "source": [
    "print(\"The optimal RMS tracking error is {}\".format(np.sqrt((1/(T+1))*term1.value)))    "
   ]
  },
  {
   "cell_type": "markdown",
   "id": "497ac376",
   "metadata": {},
   "source": [
    "The NAV attained in the optimal case goes higher than when the investor makes constant commitments. Alternatively, the desired level of NAV is attained quicker in the case of optimal commitments. This indicates that with constant commitments the investor will have to wait longer to reach her desired level of NAV."
   ]
  },
  {
   "cell_type": "code",
   "execution_count": null,
   "id": "a340181e",
   "metadata": {},
   "outputs": [],
   "source": []
  }
 ],
 "metadata": {
  "kernelspec": {
   "display_name": "Python [conda env:cvxpy_env]",
   "language": "python",
   "name": "conda-env-cvxpy_env-py"
  },
  "language_info": {
   "codemirror_mode": {
    "name": "ipython",
    "version": 3
   },
   "file_extension": ".py",
   "mimetype": "text/x-python",
   "name": "python",
   "nbconvert_exporter": "python",
   "pygments_lexer": "ipython3",
   "version": "3.10.2"
  }
 },
 "nbformat": 4,
 "nbformat_minor": 5
}
