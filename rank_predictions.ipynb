{
 "cells": [
  {
   "cell_type": "markdown",
   "id": "a508320d",
   "metadata": {},
   "source": [
    "### Question 5"
   ]
  },
  {
   "cell_type": "code",
   "execution_count": 1,
   "id": "96bc51aa",
   "metadata": {},
   "outputs": [],
   "source": [
    "import numpy as np\n",
    "import cvxpy as cp\n",
    "import matplotlib.pyplot as plt"
   ]
  },
  {
   "cell_type": "markdown",
   "id": "93870db8",
   "metadata": {},
   "source": [
    "### Optimization Problem"
   ]
  },
  {
   "cell_type": "markdown",
   "id": "0c9689ba",
   "metadata": {},
   "source": [
    "For the training set, we simply need to find optimal $\\theta$ by minimizing a convex function (sum of norms of affine functions). The problem is formulated as <br>\n",
    "$min. \\frac{1}{2 N} \\sum_{i=1}^{N}\\left\\|\\pi_{i}-\\theta x_{i}\\right\\|$ <br>\n",
    "There are no real constraints to this problem. Finally, we will measure the performance of our predictor on the test set using the average distance metric <br>\n",
    "$\\frac{1}{2 N^{\\text {test }}} \\sum_{i=1}^{N^{\\text {test }}}\\left\\|\\pi_{i}^{\\mathrm{test}}-P\\left(x_{i}^{\\mathrm{test}}\\right)\\right\\|_{1}$"
   ]
  },
  {
   "cell_type": "markdown",
   "id": "9cf8a0a1",
   "metadata": {},
   "source": [
    "### Implementation"
   ]
  },
  {
   "cell_type": "code",
   "execution_count": 2,
   "id": "581358b0",
   "metadata": {},
   "outputs": [],
   "source": [
    "def Pi(y):\n",
    "    \"\"\"Returns the rakning of the argument.\n",
    "\n",
    "    :param y: a 2d array of size N x K or a 1d array of size K, N input vectors/1 vector to generate the rankings\n",
    "    \n",
    "    :return: a 2d numpy array with ith row being the ranking of the ith row of y if y is a 2d array, \n",
    "    and a 1d ranking (numpy array) if y is a 1d array\n",
    "    \"\"\"\n",
    "    y = np.array(y)\n",
    "    if y.ndim == 1:\n",
    "        ranking = np.argsort(np.argsort(y)) + 1\n",
    "    else:\n",
    "        ranking = np.argsort(np.argsort(y, axis = -1), axis = -1) + 1\n",
    "    return ranking"
   ]
  },
  {
   "cell_type": "code",
   "execution_count": 3,
   "id": "2a4e7c22",
   "metadata": {},
   "outputs": [],
   "source": [
    "# Data generation\n",
    "\n",
    "N = N_test = 500\n",
    "d = 20\n",
    "K = 10\n",
    "\n",
    "np.random.seed(0)\n",
    "\n",
    "# Generate the true theta matrix\n",
    "theta_true = np.random.randn(K,d)\n",
    "theta_true /= np.linalg.norm(theta_true[:])\n",
    "\n",
    "# Sample x_i from standard Gaussian\n",
    "X_test = np.hstack([np.random.randn(N_test,  d-1), np.ones((N_test, 1))])\n",
    "X_train = np.hstack([np.random.randn(N,  d-1), np.ones((N, 1))])\n",
    "\n",
    "# Generate the true features y = theta x and add noise to them\n",
    "Y_train, Y_test = X_train.dot(theta_true.T), X_test.dot(theta_true.T)\n",
    "\n",
    "# Add 15dB of noise to the observed y to generate noisy rankings\n",
    "noise_snr = 15.\n",
    "sigma_noise = 10 ** (-0.05 * noise_snr) / np.sqrt(K)\n",
    "Y_train, Y_test = Y_train + sigma_noise * np.random.randn(N, K), Y_test + sigma_noise * np.random.randn(N_test, K)\n",
    "\n",
    "# Get the rankins of the observed noisy data\n",
    "pi_train, pi_test = Pi(Y_train), Pi(Y_test)"
   ]
  },
  {
   "cell_type": "code",
   "execution_count": 4,
   "id": "97fa7af3",
   "metadata": {},
   "outputs": [],
   "source": [
    "# defining variable\n",
    "\n",
    "theta = cp.Variable((K, d))"
   ]
  },
  {
   "cell_type": "code",
   "execution_count": 5,
   "id": "790d5cd4",
   "metadata": {},
   "outputs": [],
   "source": [
    "# defining objective function\n",
    "\n",
    "objf = 0\n",
    "\n",
    "for i in range(N):\n",
    "    objf += cp.norm(pi_train[i] - theta@X_train[i], 1)\n",
    "    \n",
    "obj = cp.Minimize((1/(2*N))*objf)"
   ]
  },
  {
   "cell_type": "code",
   "execution_count": 6,
   "id": "4842fa5e",
   "metadata": {},
   "outputs": [],
   "source": [
    "# solve the problem\n",
    "\n",
    "prob = cp.Problem(obj, [])\n",
    "prob.solve();"
   ]
  },
  {
   "cell_type": "code",
   "execution_count": 7,
   "id": "9adabdb4",
   "metadata": {},
   "outputs": [],
   "source": [
    "# calculate rankings for train and test data\n",
    "\n",
    "pred_train = np.zeros((N, K))\n",
    "for i in range(N):\n",
    "    pred_train[i] = Pi(theta.value@X_train[i])\n",
    "\n",
    "pred_test = np.zeros((N_test, K))\n",
    "for i in range(N_test):\n",
    "    pred_test[i] = Pi(theta.value@X_test[i])"
   ]
  },
  {
   "cell_type": "code",
   "execution_count": 8,
   "id": "83d22f94",
   "metadata": {},
   "outputs": [],
   "source": [
    "# calculate distance metrics for train and test data\n",
    "\n",
    "avg_dist_train = (1/(2*N))*(np.sum(np.linalg.norm(pi_train-pred_train, 1, axis=1)))\n",
    "avg_dist_test = (1/(2*N))*(np.sum(np.linalg.norm(pi_test-pred_test, 1, axis=1)))"
   ]
  },
  {
   "cell_type": "code",
   "execution_count": 9,
   "id": "d8a072ba",
   "metadata": {},
   "outputs": [
    {
     "name": "stdout",
     "output_type": "stream",
     "text": [
      "The average distance on the training set is 2.488\n",
      "The average distance on the test set is 2.69\n"
     ]
    }
   ],
   "source": [
    "print(\"The average distance on the training set is {}\".format(avg_dist_train))\n",
    "print(\"The average distance on the test set is {}\".format(avg_dist_test))"
   ]
  },
  {
   "cell_type": "code",
   "execution_count": null,
   "id": "d8b4a36e",
   "metadata": {},
   "outputs": [],
   "source": []
  }
 ],
 "metadata": {
  "kernelspec": {
   "display_name": "Python [conda env:cvxpy_env]",
   "language": "python",
   "name": "conda-env-cvxpy_env-py"
  },
  "language_info": {
   "codemirror_mode": {
    "name": "ipython",
    "version": 3
   },
   "file_extension": ".py",
   "mimetype": "text/x-python",
   "name": "python",
   "nbconvert_exporter": "python",
   "pygments_lexer": "ipython3",
   "version": "3.10.2"
  }
 },
 "nbformat": 4,
 "nbformat_minor": 5
}
